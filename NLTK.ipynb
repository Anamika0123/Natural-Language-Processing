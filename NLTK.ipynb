{
 "cells": [
  {
   "cell_type": "markdown",
   "id": "8180ce35",
   "metadata": {},
   "source": [
    "# 1."
   ]
  },
  {
   "cell_type": "code",
   "execution_count": 4,
   "id": "65b0a058-5e8d-49bc-a47f-39f419521ef9",
   "metadata": {},
   "outputs": [
    {
     "data": {
      "text/plain": [
       "['Natural', 'Language', 'Processing', 'with', 'Python', 'is', 'fun', '.']"
      ]
     },
     "execution_count": 4,
     "metadata": {},
     "output_type": "execute_result"
    }
   ],
   "source": [
    "from nltk.tokenize import word_tokenize, sent_tokenize\n",
    "\n",
    "var = \"Natural Language Processing with Python is fun.\"\n",
    "word = word_tokenize(var)\n",
    "word"
   ]
  },
  {
   "cell_type": "markdown",
   "id": "dfdb984f",
   "metadata": {},
   "source": [
    "# 2."
   ]
  },
  {
   "cell_type": "code",
   "execution_count": 6,
   "id": "c88bf7c0-c561-4aae-9ad4-dcb974cda35d",
   "metadata": {},
   "outputs": [
    {
     "name": "stdout",
     "output_type": "stream",
     "text": [
      "Hello\n",
      "there\n",
      "How\n",
      "'s\n",
      "the\n",
      "weather\n",
      "today\n"
     ]
    }
   ],
   "source": [
    "def punct_removal(sent):\n",
    "    from string import punctuation\n",
    "    punct_list = list(punctuation)\n",
    "    \n",
    "    from nltk.tokenize import word_tokenize\n",
    "    var_new = word_tokenize(var)\n",
    "     \n",
    "    for i in var_new:\n",
    "        if i not in punct_list:\n",
    "            print(i)\n",
    "      \n",
    "var = \"Hello there! How's the weather today?\"\n",
    "\n",
    "punct_removal(var)"
   ]
  },
  {
   "cell_type": "markdown",
   "id": "cd785b09",
   "metadata": {},
   "source": [
    "# 3."
   ]
  },
  {
   "cell_type": "code",
   "execution_count": 9,
   "id": "f70890f4-d4f1-46eb-a624-730081fa3acd",
   "metadata": {},
   "outputs": [
    {
     "name": "stdout",
     "output_type": "stream",
     "text": [
      "This\n",
      "simple\n",
      "sentence\n",
      "stopword\n",
      "removal\n",
      ".\n"
     ]
    },
    {
     "name": "stderr",
     "output_type": "stream",
     "text": [
      "[nltk_data] Downloading package stopwords to\n",
      "[nltk_data]     C:\\Users\\Acer\\AppData\\Roaming\\nltk_data...\n",
      "[nltk_data]   Package stopwords is already up-to-date!\n"
     ]
    }
   ],
   "source": [
    "def stop_word_removal(sent):\n",
    "    from nltk.corpus import stopwords\n",
    "    # to avoing lookup error\n",
    "    import nltk\n",
    "    nltk.download('stopwords')\n",
    "    stop_word_list = stopwords.words(\"english\")\n",
    "    \n",
    "    from nltk.tokenize import word_tokenize\n",
    "    var_new = word_tokenize(var)\n",
    "    \n",
    "    for i in var_new:\n",
    "        if i not in stop_word_list:\n",
    "            print(i)\n",
    "\n",
    "var = \"This is a simple sentence for stopword removal.\"\n",
    "stop_word_removal(var)"
   ]
  },
  {
   "cell_type": "markdown",
   "id": "a5126e62",
   "metadata": {},
   "source": [
    "# 4."
   ]
  },
  {
   "cell_type": "code",
   "execution_count": 11,
   "id": "cea5a03e-0103-4049-ac59-da3ed82041a5",
   "metadata": {},
   "outputs": [
    {
     "name": "stdout",
     "output_type": "stream",
     "text": [
      "the\n",
      "stripe\n",
      "bat\n",
      "are\n",
      "hang\n",
      "on\n",
      "their\n",
      "feet\n",
      "for\n",
      "best\n",
      ".\n"
     ]
    }
   ],
   "source": [
    "from nltk.tokenize import word_tokenize\n",
    "var = \"The striped bats are hanging on their feet for best.\"\n",
    "var_new = word_tokenize(var)\n",
    "\n",
    "from nltk.stem import PorterStemmer\n",
    "p = PorterStemmer()\n",
    "for i in var_new:\n",
    "    stem = p.stem(i)\n",
    "    print(stem)"
   ]
  },
  {
   "cell_type": "markdown",
   "id": "0cca39ba",
   "metadata": {},
   "source": [
    "# 5."
   ]
  },
  {
   "cell_type": "code",
   "execution_count": 13,
   "id": "d4b95478-6788-4e37-99b8-3b9e8dd926d2",
   "metadata": {},
   "outputs": [
    {
     "name": "stdout",
     "output_type": "stream",
     "text": [
      "The\n",
      "goose\n",
      "are\n",
      "flying\n",
      "south\n",
      "for\n",
      "the\n",
      "winter\n",
      ".\n"
     ]
    }
   ],
   "source": [
    "from nltk.tokenize import word_tokenize\n",
    "var = \"The geese are flying south for the winter.\"\n",
    "var_new = word_tokenize(var)\n",
    "from nltk.stem import WordNetLemmatizer\n",
    "wl = WordNetLemmatizer()\n",
    "for i in var_new:\n",
    "    lemmatizer = wl.lemmatize(i)\n",
    "    print(lemmatizer)"
   ]
  },
  {
   "cell_type": "markdown",
   "id": "b98255ae",
   "metadata": {},
   "source": [
    "# 6."
   ]
  },
  {
   "cell_type": "code",
   "execution_count": 15,
   "id": "22ddb139-bd8a-4fd2-aa35-1be3428693bf",
   "metadata": {},
   "outputs": [
    {
     "name": "stdout",
     "output_type": "stream",
     "text": [
      "hello\n",
      "world\n",
      "nlp\n",
      "with\n",
      "python\n"
     ]
    }
   ],
   "source": [
    "def punct_removal(sent):\n",
    "    from string import punctuation\n",
    "    punct_list = list(punctuation)\n",
    "    \n",
    "    from nltk.tokenize import word_tokenize\n",
    "    var_new = word_tokenize(var)\n",
    "     \n",
    "    for i in var_new:\n",
    "        if i not in punct_list:\n",
    "            print(i)\n",
    "      \n",
    "var = \"Hello, World! NLP with Python.\".lower()\n",
    "punct_removal(var)"
   ]
  },
  {
   "cell_type": "markdown",
   "id": "83c144c2",
   "metadata": {},
   "source": [
    "# 7."
   ]
  },
  {
   "cell_type": "code",
   "execution_count": 17,
   "id": "cda7908b-f2a0-4e98-b64d-de6525daeb36",
   "metadata": {},
   "outputs": [
    {
     "data": {
      "text/plain": [
       "['Hello World.', 'This is NLTK.', \"Let's explore NLP!\"]"
      ]
     },
     "execution_count": 17,
     "metadata": {},
     "output_type": "execute_result"
    }
   ],
   "source": [
    "from nltk.tokenize import sent_tokenize\n",
    "var = \"Hello World. This is NLTK. Let's explore NLP!\"\n",
    "sent = sent_tokenize(var)\n",
    "sent"
   ]
  },
  {
   "cell_type": "code",
   "execution_count": 18,
   "id": "e8c00454-d342-4036-b78e-b3f0f50b36fa",
   "metadata": {},
   "outputs": [
    {
     "name": "stdout",
     "output_type": "stream",
     "text": [
      "Hello World.\n",
      "This is NLTK.\n",
      "Let's explore NLP!\n"
     ]
    }
   ],
   "source": [
    "for i in sent:\n",
    "    print(i)"
   ]
  },
  {
   "cell_type": "code",
   "execution_count": 19,
   "id": "61287595-3564-45c9-9fe1-c1d5f5598d13",
   "metadata": {},
   "outputs": [
    {
     "data": {
      "text/plain": [
       "'Hello World.'"
      ]
     },
     "execution_count": 19,
     "metadata": {},
     "output_type": "execute_result"
    }
   ],
   "source": [
    "sent[0]"
   ]
  },
  {
   "cell_type": "markdown",
   "id": "4498ac1f",
   "metadata": {},
   "source": [
    "# 8."
   ]
  },
  {
   "cell_type": "code",
   "execution_count": 21,
   "id": "dd018a4b-cbbf-4fbc-b9ed-7fbd6319e10d",
   "metadata": {},
   "outputs": [
    {
     "name": "stdout",
     "output_type": "stream",
     "text": [
      "lov\n",
      "the\n",
      "expery\n",
      "of\n",
      "learn\n",
      "nltk\n"
     ]
    }
   ],
   "source": [
    "from nltk.tokenize import word_tokenize\n",
    "var = \"Loving the experience of learning NLTK\"\n",
    "tokenize_var = word_tokenize(var)\n",
    "\n",
    "from nltk.stem import LancasterStemmer\n",
    "l = LancasterStemmer()\n",
    "for i in tokenize_var:\n",
    "    lanstemmer = l.stem(i)\n",
    "    print(lanstemmer)"
   ]
  },
  {
   "cell_type": "markdown",
   "id": "dd650e57",
   "metadata": {},
   "source": [
    "# 9."
   ]
  },
  {
   "cell_type": "code",
   "execution_count": 23,
   "id": "98a4debe-61df-4027-9895-9581be655226",
   "metadata": {},
   "outputs": [
    {
     "name": "stdout",
     "output_type": "stream",
     "text": [
      "This\n",
      "test\n",
      "sentence\n",
      "stopwords\n",
      "punctuation\n"
     ]
    },
    {
     "name": "stderr",
     "output_type": "stream",
     "text": [
      "[nltk_data] Downloading package stopwords to\n",
      "[nltk_data]     C:\\Users\\Acer\\AppData\\Roaming\\nltk_data...\n",
      "[nltk_data]   Package stopwords is already up-to-date!\n"
     ]
    }
   ],
   "source": [
    "var = \"This is a test sentence, with stopwords and punctuation!\"\n",
    "\n",
    "from nltk.corpus import stopwords\n",
    "from string import punctuation\n",
    "\n",
    "import nltk\n",
    "nltk.download('stopwords')\n",
    "\n",
    "stop = stopwords.words(\"english\")\n",
    "\n",
    "stop_word_list = list(punctuation)+stop\n",
    "\n",
    "new_var = word_tokenize(var)\n",
    "\n",
    "for i in new_var:\n",
    "    if i not in stop_word_list:\n",
    "        print(i)"
   ]
  },
  {
   "cell_type": "markdown",
   "id": "f6977f5c",
   "metadata": {},
   "source": [
    "# 10."
   ]
  },
  {
   "cell_type": "code",
   "execution_count": 25,
   "id": "5ebcf27b-9944-4f1e-937b-4e5db27679ab",
   "metadata": {},
   "outputs": [
    {
     "name": "stderr",
     "output_type": "stream",
     "text": [
      "[nltk_data] Downloading package punkt to\n",
      "[nltk_data]     C:\\Users\\Acer\\AppData\\Roaming\\nltk_data...\n",
      "[nltk_data]   Package punkt is already up-to-date!\n"
     ]
    },
    {
     "name": "stdout",
     "output_type": "stream",
     "text": [
      "[('The', 'DT'), ('striped', 'JJ'), ('bat', 'NN'), ('are', 'VBP'), ('hanging', 'VBG'), ('on', 'IN'), ('their', 'PRP$'), ('foot', 'NN'), ('.', '.')]\n"
     ]
    },
    {
     "name": "stderr",
     "output_type": "stream",
     "text": [
      "[nltk_data] Downloading package averaged_perceptron_tagger to\n",
      "[nltk_data]     C:\\Users\\Acer\\AppData\\Roaming\\nltk_data...\n",
      "[nltk_data]   Package averaged_perceptron_tagger is already up-to-\n",
      "[nltk_data]       date!\n"
     ]
    }
   ],
   "source": [
    "from nltk.tokenize import word_tokenize\n",
    "var = \"The striped bats are hanging on their feet.\"\n",
    "tokenize_var = word_tokenize(var)\n",
    "\n",
    "from nltk.stem import WordNetLemmatizer\n",
    "wl = WordNetLemmatizer()\n",
    "\n",
    "from nltk.tokenize import word_tokenize\n",
    "a = [wl.lemmatize(i) for i in tokenize_var]\n",
    "\n",
    "import nltk\n",
    "nltk.download('punkt')\n",
    "\n",
    "from nltk import pos_tag\n",
    "p = pos_tag(a)\n",
    "\n",
    "import nltk\n",
    "nltk.download('averaged_perceptron_tagger')\n",
    "\n",
    "print(p)"
   ]
  },
  {
   "cell_type": "markdown",
   "id": "b75ca60a",
   "metadata": {},
   "source": [
    "# 11."
   ]
  },
  {
   "cell_type": "code",
   "execution_count": 28,
   "id": "c73a1aad-1e5d-4da0-8475-1f7da710e406",
   "metadata": {},
   "outputs": [
    {
     "name": "stdout",
     "output_type": "stream",
     "text": [
      "step:1 word before stop word removing and stemmer ['Running', 'through', 'the', 'forest', ',', 'the', 'fox', 'is', 'faster', '.']\n",
      "----------------------------------------------------------------------------------------------------\n",
      "\n",
      "Step 4: word after stopword and stemmer:\n",
      "run\n",
      "forest\n",
      "fox\n",
      "faster\n"
     ]
    },
    {
     "name": "stderr",
     "output_type": "stream",
     "text": [
      "[nltk_data] Downloading package stopwords to\n",
      "[nltk_data]     C:\\Users\\Acer\\AppData\\Roaming\\nltk_data...\n",
      "[nltk_data]   Package stopwords is already up-to-date!\n"
     ]
    }
   ],
   "source": [
    "from nltk.tokenize import word_tokenize\n",
    "var = \"Running through the forest, the fox is faster.\"\n",
    "tokenize_var = word_tokenize(var)\n",
    "print(f\"step:1 word before stop word removing and stemmer {tokenize_var}\")\n",
    "\n",
    "print(\"-\" * 100)\n",
    "\n",
    "from nltk.corpus import stopwords\n",
    "from string import punctuation\n",
    "\n",
    "import nltk\n",
    "nltk.download('stopwords')\n",
    "\n",
    "stop = stopwords.words(\"english\")\n",
    "\n",
    "stop_word_list = list(punctuation) + stop\n",
    "\n",
    "\n",
    "from nltk.stem import PorterStemmer\n",
    "p = PorterStemmer()\n",
    "\n",
    "print(\"\\nStep 4: word after stopword and stemmer:\")\n",
    "for i in tokenize_var:\n",
    "    if i not in stop_word_list: \n",
    "        stemmer = p.stem(i) \n",
    "        print(stemmer)"
   ]
  },
  {
   "cell_type": "markdown",
   "id": "e67d9b5f",
   "metadata": {},
   "source": [
    "# 12."
   ]
  },
  {
   "cell_type": "code",
   "execution_count": 31,
   "id": "a1e9018b-9f86-4133-aec3-9c756582ad26",
   "metadata": {},
   "outputs": [
    {
     "name": "stdout",
     "output_type": "stream",
     "text": [
      "is\n",
      "an\n",
      "for\n",
      "Total number of stop words: 3\n"
     ]
    }
   ],
   "source": [
    "def stop_word(sent):\n",
    "    from nltk.corpus import stopwords\n",
    "    # To avoid lookup error\n",
    "    import nltk\n",
    "    nltk.download('stopwords', quiet=True)\n",
    "    stop_word_list = stopwords.words(\"english\")\n",
    "    \n",
    "    from nltk.tokenize import word_tokenize\n",
    "    var_new = word_tokenize(sent)\n",
    "    \n",
    "    stop_word_count = 0\n",
    "\n",
    "    for i in var_new:\n",
    "        if i in stop_word_list:\n",
    "            print(i)  \n",
    "            stop_word_count += 1 \n",
    "    \n",
    "    print(\"Total number of stop words:\", stop_word_count)\n",
    "\n",
    "var = \"This is an example sentence for counting stopwords.\"\n",
    "stop_word(var)\n"
   ]
  },
  {
   "cell_type": "markdown",
   "id": "c9cd65bc",
   "metadata": {},
   "source": [
    "# 13."
   ]
  },
  {
   "cell_type": "code",
   "execution_count": 33,
   "id": "210e6086-3f8c-4b62-80a1-c241885d75dd",
   "metadata": {},
   "outputs": [
    {
     "name": "stdout",
     "output_type": "stream",
     "text": [
      "Tokenize using regex:\n",
      "['Stemming', ',', 'punctuation', '!', 'Removal', 'example', '.']\n",
      "\n",
      "# Word After Stemmer:\n",
      "Runn\n",
      "through\n",
      "the\n",
      "forest\n",
      "the\n",
      "fox\n",
      "is\n",
      "faster\n"
     ]
    }
   ],
   "source": [
    "var = \"Stemming, punctuation! Removal example.\"\n",
    "\n",
    "import re\n",
    "var = \"Stemming, punctuation! Removal example.\"\n",
    "print(f\"Tokenize using regex:\")\n",
    "print(re.findall(\"\\w+|[^\\w\\s]\",var))\n",
    "\n",
    "from string import punctuation\n",
    "punct_list = list(punctuation)\n",
    "\n",
    "from nltk.stem import RegexpStemmer\n",
    "r = RegexpStemmer('ing')\n",
    "\n",
    "# 4. getting output\n",
    "print(\"\\n# Word After Stemmer:\")\n",
    "for i in tokenize_var:\n",
    "    if i not in punct_list:\n",
    "        stemmer = r.stem(i)\n",
    "        print(stemmer)"
   ]
  },
  {
   "cell_type": "markdown",
   "id": "f9b1625c",
   "metadata": {},
   "source": [
    "# 14."
   ]
  },
  {
   "cell_type": "code",
   "execution_count": 36,
   "id": "1b9daf5d-0bfd-49cc-ada7-089b09c98736",
   "metadata": {},
   "outputs": [
    {
     "name": "stdout",
     "output_type": "stream",
     "text": [
      "Punctuation removal with regex in NLP\n"
     ]
    }
   ],
   "source": [
    "import string\n",
    "import re\n",
    "\n",
    "text = \"Punctuation removal with regex in NLP!\"\n",
    "pattern = f\"[{re.escape(string.punctuation)}]\"\n",
    "remove_punc = re.sub(pattern, '',text)\n",
    "\n",
    "print(remove_punc)"
   ]
  },
  {
   "cell_type": "code",
   "execution_count": 37,
   "id": "9139c24e-d9ae-4939-a1f0-5ddf4ef98b35",
   "metadata": {},
   "outputs": [
    {
     "name": "stdout",
     "output_type": "stream",
     "text": [
      "Punctuation\n",
      "removal\n",
      "with\n",
      "regex\n",
      "in\n",
      "NLP\n"
     ]
    },
    {
     "data": {
      "text/plain": [
       "['Punctuation', 'removal', 'with', 'regex', 'in', 'NLP', '!']"
      ]
     },
     "execution_count": 37,
     "metadata": {},
     "output_type": "execute_result"
    }
   ],
   "source": [
    "from nltk.tokenize import word_tokenize\n",
    "tokenize_var = word_tokenize(text)\n",
    "\n",
    "from string import punctuation\n",
    "punkt_list = list(punctuation)\n",
    "punkt_list\n",
    "\n",
    "for i in tokenize_var:\n",
    "    if i not in punkt_list:\n",
    "        print(i)\n",
    "\n",
    "tokenize_var"
   ]
  },
  {
   "cell_type": "code",
   "execution_count": 38,
   "id": "32242726-a730-4cb6-bbd8-ebd48cc6028b",
   "metadata": {},
   "outputs": [
    {
     "data": {
      "text/plain": [
       "['Punctuation', 'removal', 'with', 'regex', 'in', 'NLP']"
      ]
     },
     "execution_count": 38,
     "metadata": {},
     "output_type": "execute_result"
    }
   ],
   "source": [
    "punck_removed = [i for i in tokenize_var if i not in punkt_list]\n",
    "punck_removed"
   ]
  },
  {
   "cell_type": "markdown",
   "id": "4cde9253",
   "metadata": {},
   "source": [
    "# 15."
   ]
  },
  {
   "cell_type": "code",
   "execution_count": 40,
   "id": "5fd636b3-b88c-47c9-86a8-0be7f92972ca",
   "metadata": {},
   "outputs": [
    {
     "data": {
      "text/plain": [
       "['The', 'dogs', 'are', 'barking', 'loudly', '.']"
      ]
     },
     "execution_count": 40,
     "metadata": {},
     "output_type": "execute_result"
    }
   ],
   "source": [
    "var = \"The dogs are barking loudly.\"\n",
    "\n",
    "from nltk.tokenize import word_tokenize\n",
    "tokenize_var = word_tokenize(var)\n",
    "tokenize_var"
   ]
  },
  {
   "cell_type": "code",
   "execution_count": 41,
   "id": "6bd01b48-f1f7-4a65-92c8-b0563fa3eda0",
   "metadata": {},
   "outputs": [
    {
     "name": "stdout",
     "output_type": "stream",
     "text": [
      "The\n",
      "dog\n",
      "barking\n",
      "loudly\n",
      ".\n"
     ]
    },
    {
     "name": "stderr",
     "output_type": "stream",
     "text": [
      "[nltk_data] Downloading package stopwords to\n",
      "[nltk_data]     C:\\Users\\Acer\\AppData\\Roaming\\nltk_data...\n",
      "[nltk_data]   Package stopwords is already up-to-date!\n"
     ]
    }
   ],
   "source": [
    "from nltk.corpus import stopwords\n",
    "\n",
    "import nltk\n",
    "nltk.download('stopwords')\n",
    "\n",
    "stop = stopwords.words(\"english\")\n",
    "\n",
    "from nltk.stem import WordNetLemmatizer\n",
    "wl = WordNetLemmatizer()\n",
    "\n",
    "for i in tokenize_var:\n",
    "    if i not in stop:\n",
    "        lemmatizer = wl.lemmatize(i)\n",
    "        print(lemmatizer)"
   ]
  }
 ],
 "metadata": {
  "kernelspec": {
   "display_name": "Python 3 (ipykernel)",
   "language": "python",
   "name": "python3"
  },
  "language_info": {
   "codemirror_mode": {
    "name": "ipython",
    "version": 3
   },
   "file_extension": ".py",
   "mimetype": "text/x-python",
   "name": "python",
   "nbconvert_exporter": "python",
   "pygments_lexer": "ipython3",
   "version": "3.11.7"
  }
 },
 "nbformat": 4,
 "nbformat_minor": 5
}
